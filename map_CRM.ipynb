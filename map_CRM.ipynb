{
 "cells": [
  {
   "cell_type": "code",
   "execution_count": 1,
   "metadata": {},
   "outputs": [
    {
     "name": "stdout",
     "output_type": "stream",
     "text": [
      "Requirement already satisfied: geopy==2.4.0 in c:\\users\\elenabalter\\anaconda3\\lib\\site-packages (from -r requirements.txt (line 2)) (2.4.0)\n",
      "Requirement already satisfied: kaleido==0.2.1 in c:\\users\\elenabalter\\anaconda3\\lib\\site-packages (from -r requirements.txt (line 3)) (0.2.1)\n",
      "Requirement already satisfied: pandas==2.1.0 in c:\\users\\elenabalter\\anaconda3\\lib\\site-packages (from -r requirements.txt (line 4)) (2.1.0)\n",
      "Requirement already satisfied: perscache==0.6.1 in c:\\users\\elenabalter\\anaconda3\\lib\\site-packages (from -r requirements.txt (line 5)) (0.6.1)\n",
      "Requirement already satisfied: plotly==5.16.1 in c:\\users\\elenabalter\\anaconda3\\lib\\site-packages (from -r requirements.txt (line 6)) (5.16.1)\n",
      "Requirement already satisfied: pyarrow==13.0.0 in c:\\users\\elenabalter\\anaconda3\\lib\\site-packages (from -r requirements.txt (line 7)) (13.0.0)\n",
      "Requirement already satisfied: pycountry==22.3.5 in c:\\users\\elenabalter\\anaconda3\\lib\\site-packages (from -r requirements.txt (line 8)) (22.3.5)\n",
      "Requirement already satisfied: tqdm==4.66.1 in c:\\users\\elenabalter\\anaconda3\\lib\\site-packages (from -r requirements.txt (line 9)) (4.66.1)\n",
      "Requirement already satisfied: geographiclib<3,>=1.52 in c:\\users\\elenabalter\\anaconda3\\lib\\site-packages (from geopy==2.4.0->-r requirements.txt (line 2)) (2.0)\n",
      "Requirement already satisfied: pytz>=2020.1 in c:\\users\\elenabalter\\anaconda3\\lib\\site-packages (from pandas==2.1.0->-r requirements.txt (line 4)) (2022.1)\n",
      "Requirement already satisfied: tzdata>=2022.1 in c:\\users\\elenabalter\\anaconda3\\lib\\site-packages (from pandas==2.1.0->-r requirements.txt (line 4)) (2023.3)\n",
      "Requirement already satisfied: numpy>=1.22.4 in c:\\users\\elenabalter\\anaconda3\\lib\\site-packages (from pandas==2.1.0->-r requirements.txt (line 4)) (1.25.2)\n",
      "Requirement already satisfied: python-dateutil>=2.8.2 in c:\\users\\elenabalter\\anaconda3\\lib\\site-packages (from pandas==2.1.0->-r requirements.txt (line 4)) (2.8.2)\n",
      "Requirement already satisfied: beartype in c:\\users\\elenabalter\\anaconda3\\lib\\site-packages (from perscache==0.6.1->-r requirements.txt (line 5)) (0.15.0)\n",
      "Requirement already satisfied: cloudpickle in c:\\users\\elenabalter\\anaconda3\\lib\\site-packages (from perscache==0.6.1->-r requirements.txt (line 5)) (2.0.0)\n",
      "Requirement already satisfied: icontract in c:\\users\\elenabalter\\anaconda3\\lib\\site-packages (from perscache==0.6.1->-r requirements.txt (line 5)) (2.6.2)\n",
      "Requirement already satisfied: packaging in c:\\users\\elenabalter\\anaconda3\\lib\\site-packages (from plotly==5.16.1->-r requirements.txt (line 6)) (21.3)\n",
      "Requirement already satisfied: tenacity>=6.2.0 in c:\\users\\elenabalter\\anaconda3\\lib\\site-packages (from plotly==5.16.1->-r requirements.txt (line 6)) (8.0.1)\n",
      "Requirement already satisfied: setuptools in c:\\users\\elenabalter\\anaconda3\\lib\\site-packages (from pycountry==22.3.5->-r requirements.txt (line 8)) (63.4.1)\n",
      "Requirement already satisfied: colorama in c:\\users\\elenabalter\\anaconda3\\lib\\site-packages (from tqdm==4.66.1->-r requirements.txt (line 9)) (0.4.5)\n",
      "Requirement already satisfied: six>=1.5 in c:\\users\\elenabalter\\anaconda3\\lib\\site-packages (from python-dateutil>=2.8.2->pandas==2.1.0->-r requirements.txt (line 4)) (1.16.0)\n",
      "Requirement already satisfied: typing-extensions in c:\\users\\elenabalter\\anaconda3\\lib\\site-packages (from icontract->perscache==0.6.1->-r requirements.txt (line 5)) (4.3.0)\n",
      "Requirement already satisfied: asttokens<3,>=2 in c:\\users\\elenabalter\\anaconda3\\lib\\site-packages (from icontract->perscache==0.6.1->-r requirements.txt (line 5)) (2.2.1)\n",
      "Requirement already satisfied: pyparsing!=3.0.5,>=2.0.2 in c:\\users\\elenabalter\\anaconda3\\lib\\site-packages (from packaging->plotly==5.16.1->-r requirements.txt (line 6)) (3.0.9)\n",
      "Note: you may need to restart the kernel to use updated packages.\n"
     ]
    }
   ],
   "source": [
    "pip install -r requirements.txt"
   ]
  },
  {
   "cell_type": "code",
   "execution_count": 2,
   "metadata": {},
   "outputs": [
    {
     "name": "stdout",
     "output_type": "stream",
     "text": [
      "Requirement already satisfied: pyarrow in c:\\users\\elenabalter\\anaconda3\\lib\\site-packages (13.0.0)\n",
      "Requirement already satisfied: numpy>=1.16.6 in c:\\users\\elenabalter\\anaconda3\\lib\\site-packages (from pyarrow) (1.25.2)\n",
      "Note: you may need to restart the kernel to use updated packages.\n"
     ]
    }
   ],
   "source": [
    "pip install pyarrow"
   ]
  },
  {
   "cell_type": "code",
   "execution_count": 3,
   "metadata": {},
   "outputs": [
    {
     "name": "stdout",
     "output_type": "stream",
     "text": [
      "Exception reporting mode: Plain\n"
     ]
    }
   ],
   "source": [
    "%load_ext autoreload\n",
    "%autoreload 2\n",
    "%xmode Plain"
   ]
  },
  {
   "cell_type": "code",
   "execution_count": 4,
   "metadata": {},
   "outputs": [],
   "source": [
    "import src.map as map\n",
    "from src.map import *\n",
    "import numpy as np"
   ]
  },
  {
   "cell_type": "code",
   "execution_count": null,
   "metadata": {},
   "outputs": [],
   "source": [
    "# Total_trade trade between reporter and partner data\n",
    "df = pd.read_csv('reporter_partner_total_trade_CRM_for_map.csv', index_col=0)\n",
    "df = df[df['fobvalue'] != 0]\n",
    "df['fobvalue'][df['fobvalue'] < 0] = 0"
   ]
  },
  {
   "cell_type": "code",
   "execution_count": 5,
   "metadata": {},
   "outputs": [],
   "source": [
    "#reporter-partner-commodity data of trade. It is needed to select only top-5 demanded for the transition commodities\n",
    "df_2 = pd.read_csv('6_digit_CRM_trade_data_processed.csv', index_col=0)\n",
    "df_2 = df_2[df_2['fobvalue'] != 0]\n",
    "df_2['fobvalue'][df_2['fobvalue'] < 0] = 0"
   ]
  },
  {
   "cell_type": "code",
   "execution_count": null,
   "metadata": {},
   "outputs": [],
   "source": [
    "# df.to_feather('total_CRM_trade_between_countries.feather')"
   ]
  },
  {
   "cell_type": "code",
   "execution_count": null,
   "metadata": {},
   "outputs": [],
   "source": [
    "# df = pd.read_feather('total_CRM_trade_between_countries.feather')"
   ]
  },
  {
   "cell_type": "code",
   "execution_count": 6,
   "metadata": {},
   "outputs": [],
   "source": [
    "CRM_codes = pd.read_excel('CRM_codes.xlsx', sheet_name='selected_CRM_for_map', index_col=None)\n",
    "df_2= df_2.merge(CRM_codes, on='cmdCode',  how='right')\n",
    "df_2 = pd.DataFrame(df_2.groupby(['reporterISO', 'partnerISO'])['fobvalue'].sum().reset_index(drop=False))"
   ]
  },
  {
   "cell_type": "code",
   "execution_count": 9,
   "metadata": {},
   "outputs": [],
   "source": [
    "df_2 = pd.DataFrame(df_2.groupby(['reporterISO', 'partnerISO'])['fobvalue'].sum().reset_index(drop=False))"
   ]
  },
  {
   "cell_type": "code",
   "execution_count": null,
   "metadata": {},
   "outputs": [],
   "source": [
    "\n",
    "\n",
    "df = map.calculate_total_trade_for_all_edges(df, value='fobvalue', result_column_name='total_trade')\n",
    "unique_countries = map.calculate_node_sums(df, values=['fobvalue', 'total_trade'], reporterISO='reporterISO')"
   ]
  },
  {
   "cell_type": "code",
   "execution_count": null,
   "metadata": {},
   "outputs": [],
   "source": [
    "centered_df = map.filter_single_country(df, 'CHN')\n",
    "\n",
    "plot_network_on_world_map(centered_df,\n",
    "    unique_countries,\n",
    "    node_scaling=lambda x: x / x.max() * 40 + 1,\n",
    "    scope=None,\n",
    "    #center='CHN', lataxis_range=None, lonaxis_range=None,\n",
    "    landcolor='rgb(231, 237, 239)',\n",
    "    countrycolor='rgb(0, 59, 92)',\n",
    "    linecolor='rgba(230, 101, 74, 0)',\n",
    "    countrymarkercolor='rgb(0, 59, 92)',\n",
    "    linewidth=2,\n",
    "    title_text=\"China\",\n",
    "    value='total_trade',\n",
    "    reporterISO='reporterISO',\n",
    "    partnerISO='partnerISO',\n",
    "    width=1000,\n",
    "    height=500)\n",
    "    # save='china.png')"
   ]
  },
  {
   "cell_type": "code",
   "execution_count": null,
   "metadata": {},
   "outputs": [],
   "source": [
    "\n",
    "\n",
    "plot_network_on_world_map(df,\n",
    "    unique_countries,\n",
    "    node_scaling=lambda x: x / x.max() * 50 + 1,\n",
    "    scope=None,\n",
    "    #center='CHN', lataxis_range=None, lonaxis_range=None,\n",
    "    landcolor='rgb(231, 237, 239)',\n",
    "    countrycolor='rgb(0, 59, 92)',\n",
    "    linecolor='rgba(230, 101, 74, 0)',\n",
    "    countrymarkercolor='rgba(0, 59, 92, 255)',\n",
    "    linewidth=4,\n",
    "    title_text=\"World\",\n",
    "    value='total_trade',\n",
    "    reporterISO='reporterISO',\n",
    "    partnerISO='partnerISO',\n",
    "    width=1000,\n",
    "    height=500,\n",
    "    save='world_map.png')"
   ]
  },
  {
   "cell_type": "markdown",
   "metadata": {},
   "source": [
    "CRM specified only for 5 products"
   ]
  },
  {
   "cell_type": "code",
   "execution_count": 10,
   "metadata": {},
   "outputs": [],
   "source": [
    "df_2 = map.calculate_total_trade_for_all_edges(df_2, value='fobvalue', result_column_name='total_trade')\n",
    "unique_countries_2 = map.calculate_node_sums(df_2, values=['fobvalue', 'total_trade'], reporterISO='reporterISO')\n",
    "# unique_countries_additional = unique_countries[~unique_countries['ISO'].isin(unique_countries_2['ISO'])]\n",
    "# unique_countries_additional['fobvalue'] = 0\n",
    "# unique_countries_additional['total_trade'] = 0\n",
    "# unique_countries_2 = pd.concat([unique_countries_2, unique_countries_additional], axis = 0)"
   ]
  },
  {
   "cell_type": "code",
   "execution_count": 11,
   "metadata": {},
   "outputs": [
    {
     "name": "stderr",
     "output_type": "stream",
     "text": [
      "  0%|          | 6/4605 [00:00<00:12, 376.01it/s]\n"
     ]
    },
    {
     "ename": "KeyError",
     "evalue": "'ALB'",
     "output_type": "error",
     "traceback": [
      "Traceback \u001b[1;36m(most recent call last)\u001b[0m:\n",
      "  File \u001b[0;32m\"c:\\Users\\ElenaBalter\\anaconda3\\lib\\site-packages\\pandas\\core\\indexes\\base.py\"\u001b[0m, line \u001b[0;32m3790\u001b[0m, in \u001b[0;35mget_loc\u001b[0m\n    return self._engine.get_loc(casted_key)\n",
      "  File \u001b[0;32m\"index.pyx\"\u001b[0m, line \u001b[0;32m152\u001b[0m, in \u001b[0;35mpandas._libs.index.IndexEngine.get_loc\u001b[0m\n",
      "  File \u001b[0;32m\"index.pyx\"\u001b[0m, line \u001b[0;32m181\u001b[0m, in \u001b[0;35mpandas._libs.index.IndexEngine.get_loc\u001b[0m\n",
      "  File \u001b[0;32m\"pandas\\_libs\\hashtable_class_helper.pxi\"\u001b[0m, line \u001b[0;32m7080\u001b[0m, in \u001b[0;35mpandas._libs.hashtable.PyObjectHashTable.get_item\u001b[0m\n",
      "\u001b[1;36m  File \u001b[1;32m\"pandas\\_libs\\hashtable_class_helper.pxi\"\u001b[1;36m, line \u001b[1;32m7088\u001b[1;36m, in \u001b[1;35mpandas._libs.hashtable.PyObjectHashTable.get_item\u001b[1;36m\u001b[0m\n",
      "\u001b[1;31mKeyError\u001b[0m\u001b[1;31m:\u001b[0m 'ALB'\n",
      "\nThe above exception was the direct cause of the following exception:\n",
      "Traceback \u001b[1;36m(most recent call last)\u001b[0m:\n",
      "  File \u001b[0;32m\"C:\\Users\\ElenaBalter\\AppData\\Local\\Temp\\ipykernel_25968\\3231240734.py\"\u001b[0m, line \u001b[0;32m1\u001b[0m, in \u001b[0;35m<module>\u001b[0m\n    plot_network_on_world_map(df_2,\n",
      "  File \u001b[0;32m\"d:\\Lenuxa\\!!!!!Whiteshield_current project\\GTRI\\Chapter_1_python_code\\gtri_map_visualisation\\src\\map.py\"\u001b[0m, line \u001b[0;32m156\u001b[0m, in \u001b[0;35mplot_network_on_world_map\u001b[0m\n    partner_lat, partner_long = unique_countries.loc[\n",
      "  File \u001b[0;32m\"c:\\Users\\ElenaBalter\\anaconda3\\lib\\site-packages\\pandas\\core\\indexing.py\"\u001b[0m, line \u001b[0;32m1147\u001b[0m, in \u001b[0;35m__getitem__\u001b[0m\n    return self._getitem_tuple(key)\n",
      "  File \u001b[0;32m\"c:\\Users\\ElenaBalter\\anaconda3\\lib\\site-packages\\pandas\\core\\indexing.py\"\u001b[0m, line \u001b[0;32m1330\u001b[0m, in \u001b[0;35m_getitem_tuple\u001b[0m\n    return self._getitem_lowerdim(tup)\n",
      "  File \u001b[0;32m\"c:\\Users\\ElenaBalter\\anaconda3\\lib\\site-packages\\pandas\\core\\indexing.py\"\u001b[0m, line \u001b[0;32m1039\u001b[0m, in \u001b[0;35m_getitem_lowerdim\u001b[0m\n    section = self._getitem_axis(key, axis=i)\n",
      "  File \u001b[0;32m\"c:\\Users\\ElenaBalter\\anaconda3\\lib\\site-packages\\pandas\\core\\indexing.py\"\u001b[0m, line \u001b[0;32m1393\u001b[0m, in \u001b[0;35m_getitem_axis\u001b[0m\n    return self._get_label(key, axis=axis)\n",
      "  File \u001b[0;32m\"c:\\Users\\ElenaBalter\\anaconda3\\lib\\site-packages\\pandas\\core\\indexing.py\"\u001b[0m, line \u001b[0;32m1343\u001b[0m, in \u001b[0;35m_get_label\u001b[0m\n    return self.obj.xs(label, axis=axis)\n",
      "  File \u001b[0;32m\"c:\\Users\\ElenaBalter\\anaconda3\\lib\\site-packages\\pandas\\core\\generic.py\"\u001b[0m, line \u001b[0;32m4236\u001b[0m, in \u001b[0;35mxs\u001b[0m\n    loc = index.get_loc(key)\n",
      "\u001b[1;36m  File \u001b[1;32m\"c:\\Users\\ElenaBalter\\anaconda3\\lib\\site-packages\\pandas\\core\\indexes\\base.py\"\u001b[1;36m, line \u001b[1;32m3797\u001b[1;36m, in \u001b[1;35mget_loc\u001b[1;36m\u001b[0m\n\u001b[1;33m    raise KeyError(key) from err\u001b[0m\n",
      "\u001b[1;31mKeyError\u001b[0m\u001b[1;31m:\u001b[0m 'ALB'\n"
     ]
    }
   ],
   "source": [
    "\n",
    "plot_network_on_world_map(df_2,\n",
    "    unique_countries_2,\n",
    "    node_scaling=lambda x: x / x.max() * 50 + 1,\n",
    "    scope=None,\n",
    "    #center='CHN', lataxis_range=None, lonaxis_range=None,\n",
    "    landcolor='rgb(231, 237, 239)',\n",
    "    countrycolor='rgb(0, 59, 92)',\n",
    "    linecolor='rgba(230, 101, 74, 0)',\n",
    "    countrymarkercolor='rgba(0, 59, 92, 255)',\n",
    "    linewidth=4,\n",
    "    title_text=\"World\",\n",
    "    value='total_trade',\n",
    "    reporterISO='reporterISO',\n",
    "    partnerISO='partnerISO',\n",
    "    width=1000,\n",
    "    height=500,\n",
    "    save='world_map.png')"
   ]
  },
  {
   "cell_type": "code",
   "execution_count": null,
   "metadata": {},
   "outputs": [],
   "source": []
  }
 ],
 "metadata": {
  "kernelspec": {
   "display_name": "base",
   "language": "python",
   "name": "python3"
  },
  "language_info": {
   "codemirror_mode": {
    "name": "ipython",
    "version": 3
   },
   "file_extension": ".py",
   "mimetype": "text/x-python",
   "name": "python",
   "nbconvert_exporter": "python",
   "pygments_lexer": "ipython3",
   "version": "3.9.13"
  },
  "orig_nbformat": 4
 },
 "nbformat": 4,
 "nbformat_minor": 2
}
